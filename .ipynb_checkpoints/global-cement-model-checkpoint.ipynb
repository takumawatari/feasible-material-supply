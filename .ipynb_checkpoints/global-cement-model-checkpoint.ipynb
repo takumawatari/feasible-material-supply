{
 "cells": [
  {
   "cell_type": "code",
   "execution_count": 1,
   "id": "4160bd01",
   "metadata": {},
   "outputs": [],
   "source": [
    "import pandas as pd\n",
    "import numpy as np\n",
    "from scipy import stats\n",
    "from scipy.stats import norm\n",
    "import matplotlib.pyplot as plt\n",
    "import pulp\n",
    "from pulp import LpProblem, LpVariable, LpMinimize, LpMaximize, LpContinuous, lpSum, lpDot, value\n",
    "from ortoolpy import model_min, addvars, addvals"
   ]
  },
  {
   "cell_type": "markdown",
   "id": "96d2bdbd",
   "metadata": {},
   "source": [
    "# Dynamic Stocm Model"
   ]
  },
  {
   "cell_type": "code",
   "execution_count": 2,
   "id": "4bdf45bd",
   "metadata": {},
   "outputs": [],
   "source": [
    "def compute_outflow(inflow, lifetime, sd):\n",
    "    \"\"\"\n",
    "    Computes the outflow based on the inflow, lifetime and standard deviation.\n",
    "    \"\"\"\n",
    "    # Initialize variables\n",
    "    year_complete = np.arange(1900, 1901)\n",
    "    outflow = np.repeat(0, len(year_complete))\n",
    "\n",
    "    # Iterate over years\n",
    "    for k in range(1901, 2051):\n",
    "        # Compute outflow for each year\n",
    "        outflow_list = inflow.iloc[0:len(year_complete)] * norm.pdf(k - year_complete, lifetime.iloc[0:len(year_complete)],  sd.iloc[0:len(year_complete)])\n",
    "\n",
    "        # Sum up outflow for the year\n",
    "        outflow_sum = np.sum(outflow_list)\n",
    "\n",
    "        # Append the outflow sum to the outflow list\n",
    "        outflow = np.append(outflow, outflow_sum)\n",
    "\n",
    "        # Append the current year to the year_complete list\n",
    "        year_complete = np.append(year_complete, k)\n",
    "\n",
    "    # Convert the outflow list to a pandas Series and return\n",
    "    return pd.Series(outflow)\n",
    "\n",
    "def compute_stock(inflow, outflow):\n",
    "    \"\"\"\n",
    "    Computes the stock based on the inflow and outflow.\n",
    "    \"\"\"\n",
    "    stock = inflow.sub(outflow).cumsum()\n",
    "    return stock"
   ]
  },
  {
   "cell_type": "markdown",
   "id": "0f1d15b9",
   "metadata": {},
   "source": [
    "# Variable setting function"
   ]
  },
  {
   "cell_type": "code",
   "execution_count": 3,
   "id": "e59610da",
   "metadata": {},
   "outputs": [],
   "source": [
    "def set_variable_growth(data, variable, rate_min, rate_max):\n",
    "    \"\"\"\n",
    "    Set variables with uncertainty ranges based on growth rate and linear interpolation\n",
    "    \"\"\"\n",
    "    # Get the data for the year 2021\n",
    "    data_2021 = data.at[121, variable]\n",
    "\n",
    "    # Get the data for the year 2050\n",
    "    data_2050 = np.random.uniform(data_2021 * rate_min, data_2021 * rate_max)\n",
    "\n",
    "    # Calculate the slope to linearly interpolate data for the year 2050\n",
    "    slope = (data_2050 - data_2021) / (150 -121)\n",
    "\n",
    "    # Linearly interpolate data from the year 2021 to 2050\n",
    "    for i in range(121, 151):\n",
    "        data.at[i, variable] = data_2021 + slope * (i - 121)\n",
    "        \n",
    "    return data[variable]\n",
    "\n",
    "def set_variable_target(data, variable, target_min, target_max):\n",
    "    \"\"\"\n",
    "    Set variables with uncertainty ranges based on specific target values and linear interpolation\n",
    "    \"\"\"\n",
    "    # Get the data for the year 2021\n",
    "    data_2021 = data.at[121, variable]\n",
    "\n",
    "    # Get the data for the year 2050\n",
    "    data_2050 = np.random.uniform(target_min, target_max)\n",
    "\n",
    "    # Calculate the slope to linearly interpolate data for the year 2050\n",
    "    slope = (data_2050 - data_2021) / (150 -121)\n",
    "\n",
    "    # Linearly interpolate data from the year 2021 to 2050\n",
    "    for i in range(121, 151):\n",
    "        data.at[i, variable] = data_2021 + slope * (i - 121)\n",
    "        \n",
    "    return data[variable]\n",
    "\n",
    "def set_variable_zero(data, variable, target_year_min, target_year_max):\n",
    "    \"\"\"\n",
    "    Set variables with uncertainty ranges based on linear interpolation to reach zero by a target year\n",
    "    \"\"\"\n",
    "    # Get the data for the year 2021\n",
    "    data_2021 = data.at[121, variable]\n",
    "    \n",
    "    # Randomly select the target year from a uniform distribution\n",
    "    target_year = np.random.randint(target_year_min, target_year_max)\n",
    "    \n",
    "    # Calculate the slope to linearly interpolate data to reach zero by the target year\n",
    "    slope = - data_2021 / (target_year - 121)\n",
    "    \n",
    "    # Linearly interpolate data from the year 2021 to the target year\n",
    "    for i in range(121, target_year + 1):\n",
    "        data.at[i, variable] = data_2021 + slope * (i - 121)\n",
    "    \n",
    "    # Set data from target year to 2050 to 0\n",
    "    for i in range(target_year, 151):\n",
    "        data.at[i, variable] = 0\n",
    "        \n",
    "    return data[variable]"
   ]
  },
  {
   "cell_type": "markdown",
   "id": "f9849852",
   "metadata": {},
   "source": [
    "# \"Forecasting supply and backcasting demand\" model"
   ]
  },
  {
   "cell_type": "code",
   "execution_count": 4,
   "id": "2fbda63d",
   "metadata": {},
   "outputs": [],
   "source": [
    "# Read the datafile\n",
    "with pd.ExcelFile(r'input_data_cement.xlsx') as xls:\n",
    "    data = pd.read_excel(xls, sheet_name='data', skiprows=1)\n",
    "\n",
    "# Create empty dataframes for results\n",
    "pro_mcs = pd.DataFrame()\n",
    "stock_mcs = pd.DataFrame()\n",
    "\n",
    "# Perform iterations of the optimisation\n",
    "for n in range(1000):\n",
    "    \n",
    "    #Set constraints with uncertainty ranges\n",
    "    electricity_max = set_variable_growth(data, 'electricity_max', 1.41, 2.51)\n",
    "    ccs_max = set_variable_target(data, 'ccs_max', 18, 1355)\n",
    "    EI_electricity = set_variable_zero(data, 'EI_electricity', 140, 150)\n",
    "    \n",
    "    # Add optimisation variables\n",
    "    data['Var_pro'] = addvars(len(data))\n",
    "    \n",
    "    # Calculate clinker production\n",
    "    clinker = data['Var_pro'] * data.clinker_ratio\n",
    "    \n",
    "    # Calculate electricity requirements\n",
    "    electricity_req = (data['Var_pro'] + ccs_max) * data.electric_energy\n",
    "    \n",
    "    # Calculate emissions\n",
    "    emissions = ((clinker * data.process_emission) + (clinker * data.thermal_energy * data.EI_thermal) + (electricity_req * data.EI_electricity))/1000\n",
    "    \n",
    "    # Define objective function\n",
    "    model = LpProblem(sense = LpMaximize)\n",
    "    model += lpSum([data['Var_pro']])\n",
    "    \n",
    "    for t in data.index:\n",
    "        \n",
    "        # Carbon budget\n",
    "        model += (emissions[t] - ccs_max[t]) <= data.carbon_budget[t]\n",
    "    \n",
    "        # Maximum electricity supply\n",
    "        model += electricity_req[t] <= electricity_max[t]\n",
    "    \n",
    "        # Non-negative constraints\n",
    "        model += data['Var_pro'][t] >=0\n",
    "\n",
    "    # Solve the model\n",
    "    model.solve(solver=pulp.PULP_CBC_CMD(msg=False))\n",
    "    \n",
    "    data['Val_pro'] = data['Var_pro'].apply(value)\n",
    "    \n",
    "    # Calculate inflow, outflow, stock\n",
    "    inflow = data['Val_pro'] * data.yield_construction\n",
    "    outflow = compute_outflow(inflow, data.lifetime, data.sd)\n",
    "    stock = compute_stock(inflow, outflow)\n",
    "    stock_cap = stock / data.population\n",
    "    \n",
    "    pro_mcs = pd.concat([pro_mcs, data['Val_pro']], axis=1)\n",
    "    stock_mcs = pd.concat([stock_mcs, stock_cap], axis=1)\n",
    "\n",
    "# Calculate percentiles\n",
    "def calculate_percentiles(data, percentiles):\n",
    "    return data.quantile(percentiles, axis=1).T\n",
    "\n",
    "percentiles = [0.02, 0.05, 0.1, 0.25, 0.5, 0.75, 0.9, 0.95, 0.98]\n",
    "pro_percentiles = calculate_percentiles(pro_mcs, percentiles)\n",
    "stock_percentiles = calculate_percentiles(stock_mcs, percentiles)\n",
    "\n",
    "# Write data to excel\n",
    "df_list = [pro_percentiles, stock_percentiles]\n",
    "for df in df_list:\n",
    "    df.index = data.year\n",
    "sheet_names = ['production', 'stock']\n",
    "\n",
    "with pd.ExcelWriter('outputs'+'/cement.xlsx') as writer:\n",
    "    for df, sheet_name in zip(df_list, sheet_names):\n",
    "        df.to_excel(writer, sheet_name = sheet_name)"
   ]
  },
  {
   "cell_type": "markdown",
   "id": "2b034e69",
   "metadata": {},
   "source": [
    "# Figures"
   ]
  },
  {
   "cell_type": "code",
   "execution_count": 5,
   "id": "7c6280a0",
   "metadata": {},
   "outputs": [
    {
     "data": {
      "text/plain": [
       "Text(0.5, 1.0, 'total')"
      ]
     },
     "execution_count": 5,
     "metadata": {},
     "output_type": "execute_result"
    },
    {
     "data": {
      "image/png": "[encoded data removed]",
      "text/plain": [
       "<Figure size 400x400 with 1 Axes>"
      ]
     },
     "metadata": {},
     "output_type": "display_data"
    }
   ],
   "source": [
    "df = pro_percentiles\n",
    "fig, axes = plt.subplots(nrows=1, ncols=1, figsize=(4, 4))\n",
    "    \n",
    "ax = df[0.5].plot(color='k')\n",
    "ax.fill_between(df.index, df[0.02], df[0.98], color='k', alpha=0.3)\n",
    "ax.fill_between(df.index, df[0.05], df[0.95], color='k', alpha=0.3)\n",
    "ax.fill_between(df.index, df[0.1], df[0.9], color='k', alpha=0.3)\n",
    "ax.fill_between(df.index, df[0.25], df[0.75], color='k', alpha=0.3)\n",
    "ax.set_xlim(2010, 2050)\n",
    "ax.set_ylim(0, 5000)\n",
    "ax.set_xlabel('Year')\n",
    "ax.set_ylabel('Mt/yr')\n",
    "ax.set_title('total')"
   ]
  },
  {
   "cell_type": "code",
   "execution_count": null,
   "id": "e719087f",
   "metadata": {},
   "outputs": [],
   "source": []
  },
  {
   "cell_type": "code",
   "execution_count": null,
   "id": "97f17e7d",
   "metadata": {},
   "outputs": [],
   "source": []
  }
 ],
 "metadata": {
  "kernelspec": {
   "display_name": "Python 3 (ipykernel)",
   "language": "python",
   "name": "python3"
  },
  "language_info": {
   "codemirror_mode": {
    "name": "ipython",
    "version": 3
   },
   "file_extension": ".py",
   "mimetype": "text/x-python",
   "name": "python",
   "nbconvert_exporter": "python",
   "pygments_lexer": "ipython3",
   "version": "3.9.7"
  }
 },
 "nbformat": 4,
 "nbformat_minor": 5
}
